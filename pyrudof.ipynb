{
    "nbformat": 4,
    "nbformat_minor": 0,
    "metadata": {
        "colab": {
            "provenance": [],
            "toc_visible": true,
            "name": "rudof-intro.ipynb",
            "include_colab_link": true
        },
        "kernelspec": {
            "name": "python3",
            "display_name": "Python 3"
        },
        "language_info": {
            "name": "python"
        }
    },
    "cells": [
        {
            "cell_type": "markdown",
            "metadata": {
                "id": "view-in-github",
                "colab_type": "text"
            },
            "source": [
                "<a href=\"https://colab.research.google.com/gist/labra/79e624b0534b4c7e2f869e28266be3c5/short-introduction-to-rudof.ipynb\" target=\"_parent\"><img src=\"https://colab.research.google.com/assets/colab-badge.svg\" alt=\"Open In Colab\"/></a>"
            ]
        },
        {
            "cell_type": "markdown",
            "source": [
                "# Short introduction to Rudof"
            ],
            "metadata": {
                "id": "sUm7kokski_K"
            }
        },
        {
            "cell_type": "markdown",
            "source": [
                "This document contains a short introduction to [rudof](https://rudof-project.github.io/), an RDF data shapes library. Although the library is implemented in Rust, it contains Python bindings and this document can also be seen as a short demo of those bindings."
            ],
            "metadata": {
                "id": "FlaljkGCkn_Q"
            }
        },
        {
            "cell_type": "markdown",
            "source": [
                "## Install and initialize rudof"
            ],
            "metadata": {
                "id": "whZHWrGG6Y8O"
            }
        },
        {
            "cell_type": "code",
            "source": [
                "!pip install pyrudof"
            ],
            "metadata": {
                "colab": {
                    "base_uri": "https://localhost:8080/"
                },
                "id": "voGWk2uO6gcP",
                "outputId": "f012f9bd-678d-476c-c947-7307c2660559"
            },
            "execution_count": null,
            "outputs": [
                {
                    "output_type": "stream",
                    "name": "stdout",
                    "text": [
                        "Collecting pyrudof\n",
                        "  Downloading pyrudof-0.1.50-cp37-abi3-manylinux_2_17_x86_64.manylinux2014_x86_64.whl.metadata (1.3 kB)\n",
                        "Downloading pyrudof-0.1.50-cp37-abi3-manylinux_2_17_x86_64.manylinux2014_x86_64.whl (7.9 MB)\n",
                        "\u001b[2K   \u001b[90m━━━━━━━━━━━━━━━━━━━━━━━━━━━━━━━━━━━━━━━━\u001b[0m \u001b[32m7.9/7.9 MB\u001b[0m \u001b[31m43.9 MB/s\u001b[0m eta \u001b[36m0:00:00\u001b[0m\n",
                        "\u001b[?25hInstalling collected packages: pyrudof\n",
                        "Successfully installed pyrudof-0.1.50\n"
                    ]
                }
            ]
        },
        {
            "cell_type": "code",
            "execution_count": null,
            "metadata": {
                "id": "I3jvDAPBJ3OQ"
            },
            "outputs": [],
            "source": [
                "from pyrudof import Rudof, RudofConfig"
            ]
        },
        {
            "cell_type": "code",
            "source": [
                "rudof = Rudof(RudofConfig())"
            ],
            "metadata": {
                "id": "OAV_KSrH6qn-"
            },
            "execution_count": null,
            "outputs": []
        },
        {
            "cell_type": "markdown",
            "source": [
                "## Validate using SHACL"
            ],
            "metadata": {
                "id": "RdCph-Et7PwG"
            }
        },
        {
            "cell_type": "code",
            "source": [
                "rudof.read_data_str(\"\"\"\n",
                "prefix : <http://example.org/>\n",
                "prefix sh:     <http://www.w3.org/ns/shacl#>\n",
                "prefix xsd:    <http://www.w3.org/2001/XMLSchema#>\n",
                "\n",
                ":Person a sh:NodeShape;\n",
                "   sh:targetNode :ok, :ko ;\n",
                "   sh:property [\n",
                "    sh:path     :name ;\n",
                "    sh:minCount 1;\n",
                "    sh:maxCount 1;\n",
                "    sh:datatype xsd:string ;\n",
                "  ] .\n",
                "\"\"\")"
            ],
            "metadata": {
                "id": "Mql8MdI06vj3"
            },
            "execution_count": null,
            "outputs": []
        },
        {
            "cell_type": "code",
            "source": [
                "rudof.read_data_str(\"\"\"\n",
                "prefix : <http://example.org/>\n",
                "\n",
                ":ok :name \"alice\" .\n",
                ":ko :name 1 .\n",
                "\"\"\")"
            ],
            "metadata": {
                "id": "jZzlVjXp60H2"
            },
            "execution_count": null,
            "outputs": []
        },
        {
            "cell_type": "code",
            "source": [
                "result = rudof.validate_shacl()"
            ],
            "metadata": {
                "id": "1fidxZsb643H"
            },
            "execution_count": null,
            "outputs": []
        },
        {
            "cell_type": "code",
            "source": [
                "print(result.show())"
            ],
            "metadata": {
                "id": "L_gWERG86665",
                "colab": {
                    "base_uri": "https://localhost:8080/"
                },
                "outputId": "807d88bd-64e0-43ee-8e96-8c463d276777"
            },
            "execution_count": null,
            "outputs": [
                {
                    "output_type": "stream",
                    "name": "stdout",
                    "text": [
                        "1 errors found\n",
                        "Focus node :ko, Component: sh:datatype, severity: sh:Violation\n",
                        "\n"
                    ]
                }
            ]
        },
        {
            "cell_type": "markdown",
            "source": [
                "The next command is just to clean the RDF data for the next examples."
            ],
            "metadata": {
                "id": "okXYzo-XmrPG"
            }
        },
        {
            "cell_type": "code",
            "source": [
                "rudof.reset_all()"
            ],
            "metadata": {
                "id": "9ZceJxM17yCF"
            },
            "execution_count": null,
            "outputs": []
        },
        {
            "cell_type": "markdown",
            "source": [
                "## Validate using ShEx"
            ],
            "metadata": {
                "id": "JUgsyHtW7bA5"
            }
        },
        {
            "cell_type": "code",
            "source": [
                "rudof.read_shex_str(\"\"\"\n",
                "prefix : <http://example.org/>\n",
                "prefix xsd:    <http://www.w3.org/2001/XMLSchema#>\n",
                "\n",
                ":Person {\n",
                " :name xsd:string\n",
                "}\n",
                "\"\"\")\n"
            ],
            "metadata": {
                "id": "CwDQcbAq7XJe"
            },
            "execution_count": null,
            "outputs": []
        },
        {
            "cell_type": "code",
            "source": [
                "rudof.read_data_str(\"\"\"\n",
                "prefix : <http://example.org/>\n",
                "\n",
                ":ok :name \"alice\" .\n",
                ":ko :name 1 .\n",
                "\"\"\")"
            ],
            "metadata": {
                "id": "yo97eI09nFOm"
            },
            "execution_count": null,
            "outputs": []
        },
        {
            "cell_type": "code",
            "source": [
                "rudof.read_shapemap_str(\":ok@:Person, :ko@:Person\")"
            ],
            "metadata": {
                "id": "_EFY-RpNnHwh"
            },
            "execution_count": null,
            "outputs": []
        },
        {
            "cell_type": "markdown",
            "source": [
                "Once the ShEx schema and the Shapemap have been added to `rudof`, it is possible to validate the current RDF data with the `validate_shex()` method:"
            ],
            "metadata": {
                "id": "0VA7Nyh3xa36"
            }
        },
        {
            "cell_type": "code",
            "source": [
                "result = rudof.validate_shex()"
            ],
            "metadata": {
                "id": "RtJYkJ6T7tm1"
            },
            "execution_count": null,
            "outputs": []
        },
        {
            "cell_type": "markdown",
            "source": [
                "`validate_shex()` returns a `ResultShapeMap` object which contains a `show()` method to show the results of the validation:"
            ],
            "metadata": {
                "id": "-kqBLihnxoZz"
            }
        },
        {
            "cell_type": "code",
            "source": [
                "print(result.show())"
            ],
            "metadata": {
                "id": "5-gu1z1NnUkO",
                "colab": {
                    "base_uri": "https://localhost:8080/"
                },
                "outputId": "d01db2b7-ffdd-4cc3-fae1-45fcd88a0cf9"
            },
            "execution_count": null,
            "outputs": [
                {
                    "output_type": "stream",
                    "name": "stdout",
                    "text": [
                        ":ko@<http://example.org/Person> -> Fail, reason: Error #Datatype error: Datatype expected http://www.w3.org/2001/XMLSchema#string but found http://www.w3.org/2001/XMLSchema#integer for literal with lexical form 1: 0\n",
                        ":ok@<http://example.org/Person> -> OK, reason: Reason #Shape passed. Node http://example.org/ok, shape: :Person: 0\n",
                        "\n"
                    ]
                }
            ]
        },
        {
            "cell_type": "markdown",
            "source": [
                "We reset the status of the `ShEx` schema, the `Shapemap` and the current `RDF data` for the next section."
            ],
            "metadata": {
                "id": "jiEga6RWx8sf"
            }
        },
        {
            "cell_type": "code",
            "source": [
                "rudof.reset_all()"
            ],
            "metadata": {
                "id": "6YD7UcNXnjkN"
            },
            "execution_count": null,
            "outputs": []
        },
        {
            "cell_type": "markdown",
            "source": [
                "## Converting ShEx to UML"
            ],
            "metadata": {
                "id": "_7iBx5Ocn1Fc"
            }
        },
        {
            "cell_type": "markdown",
            "source": [
                "`rudof` can be used to convert ShEx to diagrams in UML-like style. The converter generates a [PlantUML](https://plantuml.com/) string which can be written to a file and converted to an image using the PlantUML tool."
            ],
            "metadata": {
                "id": "2KRvu2HXJ3Bi"
            }
        },
        {
            "cell_type": "code",
            "source": [
                "from pyrudof import UmlGenerationMode"
            ],
            "metadata": {
                "id": "cO0QQJJSlm1j"
            },
            "execution_count": null,
            "outputs": []
        },
        {
            "cell_type": "code",
            "source": [
                "rudof.read_shex_str(\"\"\"\n",
                "prefix : <http://example.org/>\n",
                "prefix xsd:    <http://www.w3.org/2001/XMLSchema#>\n",
                "\n",
                ":Person {\n",
                " :name xsd:string  ;\n",
                " :knows @:Person * ;\n",
                " :worksFor @:Company\n",
                "}\n",
                "\n",
                ":Company {\n",
                "  :name xsd:string     ;\n",
                "  :employee @:Person * ;\n",
                "}\n",
                "\"\"\")"
            ],
            "metadata": {
                "id": "cZThqbvXn4y1"
            },
            "execution_count": null,
            "outputs": []
        },
        {
            "cell_type": "code",
            "source": [
                "plant_uml = rudof.shex2plantuml(UmlGenerationMode())"
            ],
            "metadata": {
                "id": "TgF9X8BoHyft"
            },
            "execution_count": null,
            "outputs": []
        },
        {
            "cell_type": "markdown",
            "source": [
                "Now we install the PlantUML tools necessary to process the generated `plant_uml`"
            ],
            "metadata": {
                "id": "BkET25UlKblP"
            }
        },
        {
            "cell_type": "code",
            "source": [
                "! pip install plantuml"
            ],
            "metadata": {
                "colab": {
                    "base_uri": "https://localhost:8080/"
                },
                "id": "WK_yRDiXIS9x",
                "outputId": "b37c1861-e162-442b-d3f3-e00e1c739876"
            },
            "execution_count": null,
            "outputs": [
                {
                    "output_type": "stream",
                    "name": "stdout",
                    "text": [
                        "Collecting plantuml\n",
                        "  Downloading plantuml-0.3.0-py3-none-any.whl.metadata (2.5 kB)\n",
                        "Requirement already satisfied: httplib2 in /usr/local/lib/python3.10/dist-packages (from plantuml) (0.22.0)\n",
                        "Requirement already satisfied: pyparsing!=3.0.0,!=3.0.1,!=3.0.2,!=3.0.3,<4,>=2.4.2 in /usr/local/lib/python3.10/dist-packages (from httplib2->plantuml) (3.2.0)\n",
                        "Downloading plantuml-0.3.0-py3-none-any.whl (5.8 kB)\n",
                        "Installing collected packages: plantuml\n",
                        "Successfully installed plantuml-0.3.0\n"
                    ]
                }
            ]
        },
        {
            "cell_type": "code",
            "source": [
                "! pip install ipython"
            ],
            "metadata": {
                "colab": {
                    "base_uri": "https://localhost:8080/"
                },
                "id": "Uztbqe6bJGXj",
                "outputId": "1b439e7f-f293-490a-b75b-2bd47ad5c200"
            },
            "execution_count": null,
            "outputs": [
                {
                    "output_type": "stream",
                    "name": "stdout",
                    "text": [
                        "Requirement already satisfied: ipython in /usr/local/lib/python3.10/dist-packages (7.34.0)\n",
                        "Requirement already satisfied: setuptools>=18.5 in /usr/local/lib/python3.10/dist-packages (from ipython) (75.1.0)\n",
                        "Collecting jedi>=0.16 (from ipython)\n",
                        "  Downloading jedi-0.19.1-py2.py3-none-any.whl.metadata (22 kB)\n",
                        "Requirement already satisfied: decorator in /usr/local/lib/python3.10/dist-packages (from ipython) (4.4.2)\n",
                        "Requirement already satisfied: pickleshare in /usr/local/lib/python3.10/dist-packages (from ipython) (0.7.5)\n",
                        "Requirement already satisfied: traitlets>=4.2 in /usr/local/lib/python3.10/dist-packages (from ipython) (5.7.1)\n",
                        "Requirement already satisfied: prompt-toolkit!=3.0.0,!=3.0.1,<3.1.0,>=2.0.0 in /usr/local/lib/python3.10/dist-packages (from ipython) (3.0.48)\n",
                        "Requirement already satisfied: pygments in /usr/local/lib/python3.10/dist-packages (from ipython) (2.18.0)\n",
                        "Requirement already satisfied: backcall in /usr/local/lib/python3.10/dist-packages (from ipython) (0.2.0)\n",
                        "Requirement already satisfied: matplotlib-inline in /usr/local/lib/python3.10/dist-packages (from ipython) (0.1.7)\n",
                        "Requirement already satisfied: pexpect>4.3 in /usr/local/lib/python3.10/dist-packages (from ipython) (4.9.0)\n",
                        "Requirement already satisfied: parso<0.9.0,>=0.8.3 in /usr/local/lib/python3.10/dist-packages (from jedi>=0.16->ipython) (0.8.4)\n",
                        "Requirement already satisfied: ptyprocess>=0.5 in /usr/local/lib/python3.10/dist-packages (from pexpect>4.3->ipython) (0.7.0)\n",
                        "Requirement already satisfied: wcwidth in /usr/local/lib/python3.10/dist-packages (from prompt-toolkit!=3.0.0,!=3.0.1,<3.1.0,>=2.0.0->ipython) (0.2.13)\n",
                        "Downloading jedi-0.19.1-py2.py3-none-any.whl (1.6 MB)\n",
                        "\u001b[2K   \u001b[90m━━━━━━━━━━━━━━━━━━━━━━━━━━━━━━━━━━━━━━━━\u001b[0m \u001b[32m1.6/1.6 MB\u001b[0m \u001b[31m19.5 MB/s\u001b[0m eta \u001b[36m0:00:00\u001b[0m\n",
                        "\u001b[?25hInstalling collected packages: jedi\n",
                        "Successfully installed jedi-0.19.1\n"
                    ]
                }
            ]
        },
        {
            "cell_type": "code",
            "source": [
                "f= open(\"out.puml\",\"w+\")"
            ],
            "metadata": {
                "id": "snM3L096Ih-_"
            },
            "execution_count": null,
            "outputs": []
        },
        {
            "cell_type": "code",
            "source": [
                "f.write(plant_uml)"
            ],
            "metadata": {
                "colab": {
                    "base_uri": "https://localhost:8080/"
                },
                "id": "eD7sD9CaIrCy",
                "outputId": "66339b00-9d94-41bb-b42f-f0ad6c841eab"
            },
            "execution_count": null,
            "outputs": [
                {
                    "output_type": "execute_result",
                    "data": {
                        "text/plain": [
                            "535"
                        ]
                    },
                    "metadata": {},
                    "execution_count": 21
                }
            ]
        },
        {
            "cell_type": "code",
            "source": [
                "f.close()"
            ],
            "metadata": {
                "id": "H7y3cBAHIx6v"
            },
            "execution_count": null,
            "outputs": []
        },
        {
            "cell_type": "code",
            "source": [
                "!python -m plantuml out.puml"
            ],
            "metadata": {
                "colab": {
                    "base_uri": "https://localhost:8080/"
                },
                "id": "VTN0x4H-I4Mo",
                "outputId": "fe55b1ba-1bff-4a6c-d43a-213bb61fdb6e"
            },
            "execution_count": null,
            "outputs": [
                {
                    "output_type": "stream",
                    "name": "stdout",
                    "text": [
                        "[{'filename': 'out.puml', 'gen_success': True}]\n"
                    ]
                }
            ]
        },
        {
            "cell_type": "code",
            "source": [
                "from IPython.display import Image"
            ],
            "metadata": {
                "id": "XrFhCm6yJP3x"
            },
            "execution_count": null,
            "outputs": []
        },
        {
            "cell_type": "code",
            "source": [
                "Image(f\"out.png\")"
            ],
            "metadata": {
                "colab": {
                    "base_uri": "https://localhost:8080/",
                    "height": 235
                },
                "id": "e4dRHoIUJabG",
                "outputId": "4352cd04-7536-445f-ea8c-b7468720d2dc"
            },
            "execution_count": null,
            "outputs": [
                {
                    "output_type": "execute_result",
                    "data": {
                        "image/png": "[encoded data removed]",
                        "text/plain": [
                            "<IPython.core.display.Image object>"
                        ]
                    },
                    "metadata": {},
                    "execution_count": 25
                }
            ]
        },
        {
            "cell_type": "code",
            "source": [
                "rudof.reset_all()"
            ],
            "metadata": {
                "id": "ZLuBCHWpFuIR"
            },
            "execution_count": null,
            "outputs": []
        },
        {
            "cell_type": "markdown",
            "source": [
                "## Converting DCTAP to ShEx"
            ],
            "metadata": {
                "id": "W0j6rPmxJfPY"
            }
        },
        {
            "cell_type": "markdown",
            "source": [
                "Rudof can be used to convert [DCTAP](https://www.dublincore.org/specifications/dctap/) files to ShEx."
            ],
            "metadata": {
                "id": "xFXK6AkjJnmy"
            }
        },
        {
            "cell_type": "markdown",
            "source": [
                "DCTAP can be used to represent shapes using a tabular representation using CSV or an spreadsheet format like XLSX. As an example, the following CSV data:\n"
            ],
            "metadata": {
                "id": "mFtcvAieQP7Q"
            }
        },
        {
            "cell_type": "code",
            "source": [
                "dctap_str = \"\"\"shapeId,propertyId,Mandatory,Repeatable,valueDatatype,valueShape\n",
                "Person,name,true,false,xsd:string,\n",
                ",birthdate,false,false,xsd:date,\n",
                ",worksFor,false,true,,Company\n",
                "Company,name,true,false,xsd:string,\n",
                ",employee,false,true,,Person\n",
                "\"\"\""
            ],
            "metadata": {
                "id": "2E6N1wzZQk23"
            },
            "execution_count": null,
            "outputs": []
        },
        {
            "cell_type": "code",
            "source": [
                "rudof.read_dctap_str(dctap_str)"
            ],
            "metadata": {
                "id": "k66wE-LPJyvR"
            },
            "execution_count": null,
            "outputs": []
        },
        {
            "cell_type": "code",
            "source": [
                "dctap = rudof.get_dctap()"
            ],
            "metadata": {
                "id": "1vx602BebWqH"
            },
            "execution_count": null,
            "outputs": []
        },
        {
            "cell_type": "code",
            "source": [
                "print(dctap)"
            ],
            "metadata": {
                "colab": {
                    "base_uri": "https://localhost:8080/"
                },
                "id": "G-SnI2jfbnpX",
                "outputId": "ea7aa513-2fb3-43ab-d8ed-2d363148a572"
            },
            "execution_count": null,
            "outputs": [
                {
                    "output_type": "stream",
                    "name": "stdout",
                    "text": [
                        "Shape(Person)  \n",
                        " name xsd:string \n",
                        " birthdate xsd:date ?\n",
                        " worksFor @Company *\n",
                        "Shape(Company)  \n",
                        " name xsd:string \n",
                        " employee @Person *\n",
                        "\n"
                    ]
                }
            ]
        },
        {
            "cell_type": "markdown",
            "source": [
                "It is possible to convert the DCTAP obtained to ShEx"
            ],
            "metadata": {
                "id": "utlhcAiYFjdv"
            }
        },
        {
            "cell_type": "code",
            "source": [
                "rudof.dctap2shex()\n"
            ],
            "metadata": {
                "id": "djzyJkAxFhIV"
            },
            "execution_count": null,
            "outputs": []
        },
        {
            "cell_type": "code",
            "source": [
                "from pyrudof import ShExFormatter"
            ],
            "metadata": {
                "id": "2IwnrHIOFxGM"
            },
            "execution_count": null,
            "outputs": []
        },
        {
            "cell_type": "code",
            "source": [
                "result = rudof.serialize_shex(ShExFormatter())\n"
            ],
            "metadata": {
                "id": "04gjCw2lFoak"
            },
            "execution_count": null,
            "outputs": []
        },
        {
            "cell_type": "code",
            "source": [
                "print(result)"
            ],
            "metadata": {
                "colab": {
                    "base_uri": "https://localhost:8080/"
                },
                "id": "KZBeAbztGCSh",
                "outputId": "9dfae30a-6f96-466e-c5a0-b7d57826dce2"
            },
            "execution_count": null,
            "outputs": [
                {
                    "output_type": "stream",
                    "name": "stdout",
                    "text": [
                        "prefix rdf: <http://www.w3.org/1999/02/22-rdf-syntax-ns#>\n",
                        "prefix : <http://example.org/>\n",
                        "prefix rdfs: <http://www.w3.org/2000/01/rdf-schema#>\n",
                        "prefix dc: <http://purl.org/dc/elements/1.1/>\n",
                        "prefix xsd: <http://www.w3.org/2001/XMLSchema#>\n",
                        "prefix sh: <http://www.w3.org/ns/shacl#>\n",
                        ":Person { :name xsd:string; :birthdate xsd:date ?; :worksFor @:Company * }\n",
                        ":Company { :name xsd:string; :employee @:Person * }\n"
                    ]
                }
            ]
        },
        {
            "cell_type": "code",
            "source": [],
            "metadata": {
                "id": "ihjNIGutGMUG"
            },
            "execution_count": null,
            "outputs": []
        }
    ]
}